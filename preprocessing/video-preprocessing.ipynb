{
 "cells": [
  {
   "cell_type": "markdown",
   "id": "8bcd3e04",
   "metadata": {},
   "source": [
    "# Frame Extraction: Abilities, Kill Feed, Map"
   ]
  },
  {
   "cell_type": "code",
   "execution_count": 1,
   "id": "5b61f292",
   "metadata": {},
   "outputs": [],
   "source": [
    "import cv2\n",
    "import json"
   ]
  },
  {
   "cell_type": "code",
   "execution_count": 2,
   "id": "02aa39cf",
   "metadata": {},
   "outputs": [],
   "source": [
    "f = open('../config/segmentation-information.json')\n",
    "segmentation_section_data = json.load(f)\n",
    "f.close()"
   ]
  },
  {
   "cell_type": "code",
   "execution_count": 3,
   "id": "f82aef1a",
   "metadata": {},
   "outputs": [
    {
     "name": "stdout",
     "output_type": "stream",
     "text": [
      "37636.0\n",
      "('abilities', {'height_percentages': [85, 100], 'width_percentages': [35.5, 64.5], 'output_folder': './ability-data/'})\n",
      "(x1,x2): ( 681 , 1238 )\n",
      "(y1,y2): ( 918 , 1080 )\n",
      "\n",
      "('kill-feed', {'height_percentage': [0, 50], 'width_percentage': [75, 100], 'output_folder': './kill-feed-data/'})\n"
     ]
    },
    {
     "ename": "KeyError",
     "evalue": "'width_percentages'",
     "output_type": "error",
     "traceback": [
      "\u001b[0;31m---------------------------------------------------------------------------\u001b[0m",
      "\u001b[0;31mKeyError\u001b[0m                                  Traceback (most recent call last)",
      "Input \u001b[0;32mIn [3]\u001b[0m, in \u001b[0;36m<cell line: 10>\u001b[0;34m()\u001b[0m\n\u001b[1;32m     17\u001b[0m \u001b[38;5;28mprint\u001b[39m(segment)\n\u001b[1;32m     18\u001b[0m height, width, _ \u001b[38;5;241m=\u001b[39m frame\u001b[38;5;241m.\u001b[39mshape\n\u001b[0;32m---> 19\u001b[0m x1_percentage, x2_percentage \u001b[38;5;241m=\u001b[39m \u001b[43msegment\u001b[49m\u001b[43m[\u001b[49m\u001b[38;5;241;43m1\u001b[39;49m\u001b[43m]\u001b[49m\u001b[43m[\u001b[49m\u001b[38;5;124;43m\"\u001b[39;49m\u001b[38;5;124;43mwidth_percentages\u001b[39;49m\u001b[38;5;124;43m\"\u001b[39;49m\u001b[43m]\u001b[49m\n\u001b[1;32m     20\u001b[0m y1_percentage, y2_percentage \u001b[38;5;241m=\u001b[39m segment[\u001b[38;5;241m1\u001b[39m][\u001b[38;5;124m\"\u001b[39m\u001b[38;5;124mheight_percentages\u001b[39m\u001b[38;5;124m\"\u001b[39m]\n\u001b[1;32m     21\u001b[0m output_folder \u001b[38;5;241m=\u001b[39m segment[\u001b[38;5;241m1\u001b[39m][\u001b[38;5;124m\"\u001b[39m\u001b[38;5;124moutput_folder\u001b[39m\u001b[38;5;124m\"\u001b[39m]\n",
      "\u001b[0;31mKeyError\u001b[0m: 'width_percentages'"
     ]
    }
   ],
   "source": [
    "##  \n",
    "video_path = '../../valo-gameplay-1080-sage.mp4'\n",
    "\n",
    "cap = cv2.VideoCapture(video_path)\n",
    "total_frame_count = cap.get(cv2.CAP_PROP_FRAME_COUNT)\n",
    "print(total_frame_count)\n",
    "        \n",
    "frame_rate = 5000  # Extract every 5000th frame\n",
    "frame_count = 0\n",
    "while cap.isOpened():\n",
    "    ret, frame = cap.read()\n",
    "    if not ret:\n",
    "        break\n",
    "    \n",
    "    if frame_count % frame_rate == 0:\n",
    "        for segment in segmentation_section_data.items():\n",
    "            print(segment)\n",
    "            height, width, _ = frame.shape\n",
    "            x1_percentage, x2_percentage = segment[1][\"width_percentages\"]\n",
    "            y1_percentage, y2_percentage = segment[1][\"height_percentages\"]\n",
    "            output_folder = segment[1][\"output_folder\"]\n",
    "            frame_filename = f\"{output_folder}frame_{frame_count:04d}.jpg\"\n",
    "            \n",
    "            x1 = int(width * x1_percentage / 100)\n",
    "            x2 = int(width * x2_percentage / 100)\n",
    "            y1 = int(height * y1_percentage / 100)\n",
    "            y2 = int(height * y2_percentage / 100)\n",
    "            \n",
    "            print(\"(x1,x2): (\", x1, \",\", x2, \")\")\n",
    "            print(\"(y1,y2): (\", y1, \",\", y2, \")\")\n",
    "            print()\n",
    "\n",
    "            ROI = frame[y1:y2,x1:x2,:]\n",
    "            cv2.imwrite(frame_filename, ROI)\n",
    "        \n",
    "    frame_count += 1\n",
    "\n",
    "cap.release()\n",
    "cv2.destroyAllWindows()"
   ]
  },
  {
   "cell_type": "code",
   "execution_count": null,
   "id": "d628e5ad",
   "metadata": {},
   "outputs": [],
   "source": [
    "## Kill Feed Frame\n",
    "video_path = '../../valo-gameplay-1080-sage.mp4'\n",
    "output_folder = './kill-feed-data/'\n",
    "\n",
    "cap = cv2.VideoCapture(video_path)\n",
    "frame_rate = 2000  # Extract every 5th frame\n",
    "\n",
    "frame_count = 0\n",
    "while cap.isOpened():\n",
    "    ret, frame = cap.read()\n",
    "    if not ret:\n",
    "        break\n",
    "    \n",
    "    if frame_count % frame_rate == 0:\n",
    "        frame_filename = f\"{output_folder}frame_{frame_count:04d}.jpg\"\n",
    "        \n",
    "        height_percent = 50\n",
    "        width_percent = 25\n",
    "        \n",
    "        # Calculate dimensions for cropping\n",
    "        height, width, _ = frame.shape\n",
    "        print(\"(Width, Height): \", \"(\", width, \",\", height, \")\")\n",
    "        feed_width = int(width * width_percent / 100)\n",
    "        middle_start = width - feed_width\n",
    "        middle_end = width\n",
    "        bottom_height = int(height * height_percent / 100)\n",
    "        bottom_start = 0\n",
    "        bottom_end = bottom_height\n",
    "        \n",
    "        # Crop region of interest\n",
    "        middle_bottom_region = frame[bottom_start:bottom_end, middle_start:middle_end, :]\n",
    "        cv2.imwrite(frame_filename, middle_bottom_region)\n",
    "    frame_count += 1\n",
    "\n",
    "cap.release()\n",
    "cv2.destroyAllWindows()"
   ]
  },
  {
   "cell_type": "code",
   "execution_count": null,
   "id": "e989e99c",
   "metadata": {},
   "outputs": [],
   "source": [
    "## Map Frame Data\n",
    "video_path = '../../valo-gameplay-1080-sage.mp4'\n",
    "output_folder = './map-data/'\n",
    "\n",
    "cap = cv2.VideoCapture(video_path)\n",
    "frame_rate = 2000  # Extract every 5th frame\n",
    "\n",
    "frame_count = 0\n",
    "while cap.isOpened():\n",
    "    ret, frame = cap.read()\n",
    "    if not ret:\n",
    "        break\n",
    "    \n",
    "    if frame_count % frame_rate == 0:\n",
    "        frame_filename = f\"{output_folder}frame_{frame_count:04d}.jpg\"\n",
    "        \n",
    "        height_percent = 45\n",
    "        width_percent = 30\n",
    "        \n",
    "        # Calculate dimensions for cropping\n",
    "        height, width, _ = frame.shape\n",
    "        print(\"(Width, Height): \", \"(\", width, \",\", height, \")\")\n",
    "        map_width = int(width * width_percent / 100)\n",
    "        middle_start = 0\n",
    "        middle_end = feed_width\n",
    "        bottom_height = int(height * height_percent / 100)\n",
    "        bottom_start = 0\n",
    "        bottom_end = bottom_height\n",
    "        \n",
    "        # Crop region of interest\n",
    "        middle_bottom_region = frame[bottom_start:bottom_end, middle_start:middle_end, :]\n",
    "        cv2.imwrite(frame_filename, middle_bottom_region)\n",
    "    frame_count += 1\n",
    "\n",
    "cap.release()\n",
    "cv2.destroyAllWindows()"
   ]
  },
  {
   "cell_type": "code",
   "execution_count": null,
   "id": "3675f122",
   "metadata": {},
   "outputs": [],
   "source": []
  }
 ],
 "metadata": {
  "kernelspec": {
   "display_name": "Python 3 (ipykernel)",
   "language": "python",
   "name": "python3"
  },
  "language_info": {
   "codemirror_mode": {
    "name": "ipython",
    "version": 3
   },
   "file_extension": ".py",
   "mimetype": "text/x-python",
   "name": "python",
   "nbconvert_exporter": "python",
   "pygments_lexer": "ipython3",
   "version": "3.9.16"
  }
 },
 "nbformat": 4,
 "nbformat_minor": 5
}
