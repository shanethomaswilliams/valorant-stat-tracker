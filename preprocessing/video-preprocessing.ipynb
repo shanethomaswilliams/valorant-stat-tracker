{
 "cells": [
  {
   "cell_type": "markdown",
   "id": "8bcd3e04",
   "metadata": {},
   "source": [
    "# Frame Extraction"
   ]
  },
  {
   "cell_type": "code",
   "execution_count": 7,
   "id": "5b61f292",
   "metadata": {},
   "outputs": [],
   "source": [
    "import cv2"
   ]
  },
  {
   "cell_type": "code",
   "execution_count": 15,
   "id": "f82aef1a",
   "metadata": {},
   "outputs": [
    {
     "name": "stdout",
     "output_type": "stream",
     "text": [
      "(Width, Height):  ( 1920 , 1080 )\n",
      "(Width, Height):  ( 1920 , 1080 )\n",
      "(Width, Height):  ( 1920 , 1080 )\n",
      "(Width, Height):  ( 1920 , 1080 )\n"
     ]
    },
    {
     "ename": "KeyboardInterrupt",
     "evalue": "",
     "output_type": "error",
     "traceback": [
      "\u001b[0;31m---------------------------------------------------------------------------\u001b[0m",
      "\u001b[0;31mKeyboardInterrupt\u001b[0m                         Traceback (most recent call last)",
      "Input \u001b[0;32mIn [15]\u001b[0m, in \u001b[0;36m<cell line: 8>\u001b[0;34m()\u001b[0m\n\u001b[1;32m      7\u001b[0m frame_count \u001b[38;5;241m=\u001b[39m \u001b[38;5;241m0\u001b[39m\n\u001b[1;32m      8\u001b[0m \u001b[38;5;28;01mwhile\u001b[39;00m cap\u001b[38;5;241m.\u001b[39misOpened():\n\u001b[0;32m----> 9\u001b[0m     ret, frame \u001b[38;5;241m=\u001b[39m \u001b[43mcap\u001b[49m\u001b[38;5;241;43m.\u001b[39;49m\u001b[43mread\u001b[49m\u001b[43m(\u001b[49m\u001b[43m)\u001b[49m\n\u001b[1;32m     10\u001b[0m     \u001b[38;5;28;01mif\u001b[39;00m \u001b[38;5;129;01mnot\u001b[39;00m ret:\n\u001b[1;32m     11\u001b[0m         \u001b[38;5;28;01mbreak\u001b[39;00m\n",
      "\u001b[0;31mKeyboardInterrupt\u001b[0m: "
     ]
    }
   ],
   "source": [
    "## Abilities Frame \n",
    "\n",
    "video_path = '../../valo-gameplay-1080-sage.mp4'\n",
    "output_folder = './ability-data/'\n",
    "\n",
    "cap = cv2.VideoCapture(video_path)\n",
    "frame_rate = 2000  # Extract every 5th frame\n",
    "\n",
    "frame_count = 0\n",
    "while cap.isOpened():\n",
    "    ret, frame = cap.read()\n",
    "    if not ret:\n",
    "        break\n",
    "    \n",
    "    if frame_count % frame_rate == 0:\n",
    "        frame_filename = f\"{output_folder}frame_{frame_count:04d}.jpg\"\n",
    "        \n",
    "        middle_percent = 28\n",
    "        bottom_percent = 10\n",
    "        \n",
    "        # Calculate dimensions for cropping\n",
    "        height, width, _ = frame.shape\n",
    "        print(\"(Width, Height): \", \"(\", width, \",\", height, \")\")\n",
    "        middle_start = int((width - (width * middle_percent / 100)) / 2)\n",
    "        middle_end = int((width + (width * middle_percent / 100)) / 2)\n",
    "        bottom_height = int(height * bottom_percent / 100)\n",
    "        bottom_start = height - bottom_height\n",
    "        bottom_end = height\n",
    "        \n",
    "        # Crop region of interest\n",
    "        middle_bottom_region = frame[bottom_start:bottom_end, middle_start:middle_end, :]\n",
    "        cv2.imwrite(frame_filename, middle_bottom_region)\n",
    "    frame_count += 1\n",
    "\n",
    "cap.release()\n",
    "cv2.destroyAllWindows()"
   ]
  },
  {
   "cell_type": "code",
   "execution_count": 17,
   "id": "d628e5ad",
   "metadata": {},
   "outputs": [
    {
     "name": "stdout",
     "output_type": "stream",
     "text": [
      "(Width, Height):  ( 1920 , 1080 )\n",
      "(Width, Height):  ( 1920 , 1080 )\n",
      "(Width, Height):  ( 1920 , 1080 )\n",
      "(Width, Height):  ( 1920 , 1080 )\n",
      "(Width, Height):  ( 1920 , 1080 )\n",
      "(Width, Height):  ( 1920 , 1080 )\n",
      "(Width, Height):  ( 1920 , 1080 )\n"
     ]
    },
    {
     "ename": "KeyboardInterrupt",
     "evalue": "",
     "output_type": "error",
     "traceback": [
      "\u001b[0;31m---------------------------------------------------------------------------\u001b[0m",
      "\u001b[0;31mKeyboardInterrupt\u001b[0m                         Traceback (most recent call last)",
      "Input \u001b[0;32mIn [17]\u001b[0m, in \u001b[0;36m<cell line: 10>\u001b[0;34m()\u001b[0m\n\u001b[1;32m      9\u001b[0m frame_count \u001b[38;5;241m=\u001b[39m \u001b[38;5;241m0\u001b[39m\n\u001b[1;32m     10\u001b[0m \u001b[38;5;28;01mwhile\u001b[39;00m cap\u001b[38;5;241m.\u001b[39misOpened():\n\u001b[0;32m---> 11\u001b[0m     ret, frame \u001b[38;5;241m=\u001b[39m \u001b[43mcap\u001b[49m\u001b[38;5;241;43m.\u001b[39;49m\u001b[43mread\u001b[49m\u001b[43m(\u001b[49m\u001b[43m)\u001b[49m\n\u001b[1;32m     12\u001b[0m     \u001b[38;5;28;01mif\u001b[39;00m \u001b[38;5;129;01mnot\u001b[39;00m ret:\n\u001b[1;32m     13\u001b[0m         \u001b[38;5;28;01mbreak\u001b[39;00m\n",
      "\u001b[0;31mKeyboardInterrupt\u001b[0m: "
     ]
    }
   ],
   "source": [
    "## Kill Feed Frame\n",
    "\n",
    "video_path = '../../valo-gameplay-1080-sage.mp4'\n",
    "output_folder = './kill-feed-data/'\n",
    "\n",
    "cap = cv2.VideoCapture(video_path)\n",
    "frame_rate = 2000  # Extract every 5th frame\n",
    "\n",
    "frame_count = 0\n",
    "while cap.isOpened():\n",
    "    ret, frame = cap.read()\n",
    "    if not ret:\n",
    "        break\n",
    "    \n",
    "    if frame_count % frame_rate == 0:\n",
    "        frame_filename = f\"{output_folder}frame_{frame_count:04d}.jpg\"\n",
    "        \n",
    "        height_percent = 50\n",
    "        width_percent = 25\n",
    "        \n",
    "        # Calculate dimensions for cropping\n",
    "        height, width, _ = frame.shape\n",
    "        print(\"(Width, Height): \", \"(\", width, \",\", height, \")\")\n",
    "        feed_width = int(width * width_percent / 100)\n",
    "        middle_start = width - feed_width\n",
    "        middle_end = width\n",
    "        bottom_height = int(height * height_percent / 100)\n",
    "        bottom_start = 0\n",
    "        bottom_end = bottom_height\n",
    "        \n",
    "        # Crop region of interest\n",
    "        middle_bottom_region = frame[bottom_start:bottom_end, middle_start:middle_end, :]\n",
    "        cv2.imwrite(frame_filename, middle_bottom_region)\n",
    "    frame_count += 1\n",
    "\n",
    "cap.release()\n",
    "cv2.destroyAllWindows()"
   ]
  },
  {
   "cell_type": "code",
   "execution_count": 19,
   "id": "d78a2921",
   "metadata": {},
   "outputs": [
    {
     "name": "stdout",
     "output_type": "stream",
     "text": [
      "(Width, Height):  ( 1920 , 1080 )\n",
      "(Width, Height):  ( 1920 , 1080 )\n",
      "(Width, Height):  ( 1920 , 1080 )\n",
      "(Width, Height):  ( 1920 , 1080 )\n",
      "(Width, Height):  ( 1920 , 1080 )\n",
      "(Width, Height):  ( 1920 , 1080 )\n"
     ]
    },
    {
     "ename": "KeyboardInterrupt",
     "evalue": "",
     "output_type": "error",
     "traceback": [
      "\u001b[0;31m---------------------------------------------------------------------------\u001b[0m",
      "\u001b[0;31mKeyboardInterrupt\u001b[0m                         Traceback (most recent call last)",
      "Input \u001b[0;32mIn [19]\u001b[0m, in \u001b[0;36m<cell line: 10>\u001b[0;34m()\u001b[0m\n\u001b[1;32m      9\u001b[0m frame_count \u001b[38;5;241m=\u001b[39m \u001b[38;5;241m0\u001b[39m\n\u001b[1;32m     10\u001b[0m \u001b[38;5;28;01mwhile\u001b[39;00m cap\u001b[38;5;241m.\u001b[39misOpened():\n\u001b[0;32m---> 11\u001b[0m     ret, frame \u001b[38;5;241m=\u001b[39m \u001b[43mcap\u001b[49m\u001b[38;5;241;43m.\u001b[39;49m\u001b[43mread\u001b[49m\u001b[43m(\u001b[49m\u001b[43m)\u001b[49m\n\u001b[1;32m     12\u001b[0m     \u001b[38;5;28;01mif\u001b[39;00m \u001b[38;5;129;01mnot\u001b[39;00m ret:\n\u001b[1;32m     13\u001b[0m         \u001b[38;5;28;01mbreak\u001b[39;00m\n",
      "\u001b[0;31mKeyboardInterrupt\u001b[0m: "
     ]
    }
   ],
   "source": [
    "## Map Frame Data\n",
    "\n",
    "video_path = '../../valo-gameplay-1080-sage.mp4'\n",
    "output_folder = './map-data/'\n",
    "\n",
    "cap = cv2.VideoCapture(video_path)\n",
    "frame_rate = 2000  # Extract every 5th frame\n",
    "\n",
    "frame_count = 0\n",
    "while cap.isOpened():\n",
    "    ret, frame = cap.read()\n",
    "    if not ret:\n",
    "        break\n",
    "    \n",
    "    if frame_count % frame_rate == 0:\n",
    "        frame_filename = f\"{output_folder}frame_{frame_count:04d}.jpg\"\n",
    "        \n",
    "        height_percent = 40\n",
    "        width_percent = 30\n",
    "        \n",
    "        # Calculate dimensions for cropping\n",
    "        height, width, _ = frame.shape\n",
    "        print(\"(Width, Height): \", \"(\", width, \",\", height, \")\")\n",
    "        map_width = int(width * width_percent / 100)\n",
    "        middle_start = 0\n",
    "        middle_end = feed_width\n",
    "        bottom_height = int(height * height_percent / 100)\n",
    "        bottom_start = 0\n",
    "        bottom_end = bottom_height\n",
    "        \n",
    "        # Crop region of interest\n",
    "        middle_bottom_region = frame[bottom_start:bottom_end, middle_start:middle_end, :]\n",
    "        cv2.imwrite(frame_filename, middle_bottom_region)\n",
    "    frame_count += 1\n",
    "\n",
    "cap.release()\n",
    "cv2.destroyAllWindows()"
   ]
  },
  {
   "cell_type": "code",
   "execution_count": null,
   "id": "64081d63",
   "metadata": {},
   "outputs": [],
   "source": []
  }
 ],
 "metadata": {
  "kernelspec": {
   "display_name": "Python 3 (ipykernel)",
   "language": "python",
   "name": "python3"
  },
  "language_info": {
   "codemirror_mode": {
    "name": "ipython",
    "version": 3
   },
   "file_extension": ".py",
   "mimetype": "text/x-python",
   "name": "python",
   "nbconvert_exporter": "python",
   "pygments_lexer": "ipython3",
   "version": "3.9.16"
  }
 },
 "nbformat": 4,
 "nbformat_minor": 5
}
