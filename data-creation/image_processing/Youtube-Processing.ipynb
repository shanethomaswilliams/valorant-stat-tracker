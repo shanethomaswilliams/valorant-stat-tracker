{
 "cells": [
  {
   "cell_type": "code",
   "execution_count": 3,
   "id": "93afd3a4-d6c9-4071-99fb-4fc94a77e44d",
   "metadata": {},
   "outputs": [],
   "source": [
    "import cv2 \n",
    "from pytube import YouTube"
   ]
  },
  {
   "cell_type": "code",
   "execution_count": 4,
   "id": "74e27287-6192-4ec0-98cc-8a6af8be4680",
   "metadata": {},
   "outputs": [],
   "source": [
    "youtube_url = \"https://www.youtube.com/watch?v=dSUBY8Cg0R8&ab_channel=ValorantDAILY\"\n",
    "\n",
    "yt = YouTube(youtube_url)\n",
    "\n",
    "video_stream = yt.streams.get_highest_resolution()\n",
    "\n",
    "cap = cv2.VideoCapture(video_stream.url)\n",
    "\n",
    "while True:\n",
    "    # Read a frame from the video stream\n",
    "    ret, frame = cap.read()\n",
    "\n",
    "    # Break the loop when we reach the end of the video\n",
    "    if not ret:\n",
    "        break\n",
    "\n",
    "    # Process the frame (e.g., apply computer vision operations)\n",
    "    # You can perform any computer vision tasks on 'frame' here\n",
    "\n",
    "    # Display the processed frame in a window\n",
    "    cv2.imshow(\"YouTube Video\", frame)\n",
    "\n",
    "    # Exit the loop when the user presses 'q'\n",
    "    if cv2.waitKey(1) & 0xFF == ord('q'):\n",
    "        break\n",
    "\n",
    "# Release the VideoCapture object and close any open windows\n",
    "cap.release()\n",
    "cv2.destroyAllWindows()"
   ]
  },
  {
   "cell_type": "code",
   "execution_count": null,
   "id": "06585f02-a0b8-43bb-a068-38144dfd861b",
   "metadata": {},
   "outputs": [],
   "source": []
  }
 ],
 "metadata": {
  "kernelspec": {
   "display_name": "Python 3 (ipykernel)",
   "language": "python",
   "name": "python3"
  },
  "language_info": {
   "codemirror_mode": {
    "name": "ipython",
    "version": 3
   },
   "file_extension": ".py",
   "mimetype": "text/x-python",
   "name": "python",
   "nbconvert_exporter": "python",
   "pygments_lexer": "ipython3",
   "version": "3.8.10"
  }
 },
 "nbformat": 4,
 "nbformat_minor": 5
}
