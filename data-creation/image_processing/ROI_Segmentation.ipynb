{
 "cells": [
  {
   "cell_type": "markdown",
   "id": "8bcd3e04",
   "metadata": {},
   "source": [
    "# Frame Extraction: Abilities, Kill Feed, Map"
   ]
  },
  {
   "cell_type": "markdown",
   "id": "2c2f7b6d",
   "metadata": {},
   "source": [
    "#### Goal: Extracting Regions of Interest (ROI) from all video feeds in order to total 20,000 individual frames for each section of the screen\n",
    "\n",
    "Uses opencv-python to take in local video files, and then takes the config information to create different frames of important aspects of the screen"
   ]
  },
  {
   "cell_type": "code",
   "execution_count": 1,
   "id": "5b61f292",
   "metadata": {},
   "outputs": [],
   "source": [
    "import os\n",
    "import cv2\n",
    "import json\n",
    "from tqdm import tqdm"
   ]
  },
  {
   "cell_type": "code",
   "execution_count": 2,
   "id": "02aa39cf",
   "metadata": {},
   "outputs": [],
   "source": [
    "f = open('../config/segmentation-information.json')\n",
    "segmentation_section_data = json.load(f)\n",
    "f.close()"
   ]
  },
  {
   "cell_type": "code",
   "execution_count": 3,
   "id": "f82aef1a",
   "metadata": {},
   "outputs": [
    {
     "name": "stderr",
     "output_type": "stream",
     "text": [
      "100%|██████████████████████████████████████████████████████████████████████████████████████████████████████████████████████████████████████████████████████████████████| 37636/37636 [20:49<00:00, 30.12it/s]\n"
     ]
    }
   ],
   "source": [
    "## CREATING FRAME DATA\n",
    "video_path = '../../valo-gameplay-1080-sage.mp4'\n",
    "\n",
    "cap = cv2.VideoCapture(video_path)\n",
    "total_frame_count = cap.get(cv2.CAP_PROP_FRAME_COUNT)\n",
    "\n",
    "# Create target count so that we create 20,000 individual frames for each dataset\n",
    "target_frame_count = 20000\n",
    "frame_count = 0\n",
    "file_count = 1\n",
    "frame_interval = max(1, total_frame_count / target_frame_count)\n",
    "\n",
    "for _ in tqdm(range(int(total_frame_count))):\n",
    "    ret, frame = cap.read()\n",
    "    if not ret:\n",
    "        break\n",
    "    \n",
    "    if frame_count % 1 < frame_interval:\n",
    "        for _,segment in segmentation_section_data.items():\n",
    "            # Collect ROI screen percentage data from config file\n",
    "            height, width, _ = frame.shape\n",
    "            x1_percentage, x2_percentage = segment[\"width_percentages\"]\n",
    "            y1_percentage, y2_percentage = segment[\"height_percentages\"]\n",
    "            \n",
    "            # Create output folder if doesn't exist in data and create final file destination\n",
    "            output_folder = segment[\"output_folder\"]\n",
    "            if not os.path.exists(\"../data/\" + output_folder):\n",
    "                os.makedirs(\"../data/\" + output_folder)\n",
    "            frame_filename = f\"../data/{output_folder}frame_{int(file_count):04d}.jpg\"\n",
    "            \n",
    "            # Translate screen percentages to actual pixel data to create ROI\n",
    "            x1 = int(width * x1_percentage / 100)\n",
    "            x2 = int(width * x2_percentage / 100)\n",
    "            y1 = int(height * y1_percentage / 100)\n",
    "            y2 = int(height * y2_percentage / 100)\n",
    "            \n",
    "            # Create ROI and then write to file\n",
    "            ROI = frame[y1:y2,x1:x2,:]\n",
    "            cv2.imwrite(frame_filename, ROI)\n",
    "        \n",
    "    frame_count += frame_interval\n",
    "    file_count += 1\n",
    "\n",
    "cap.release()\n",
    "cv2.destroyAllWindows()"
   ]
  },
  {
   "cell_type": "code",
   "execution_count": null,
   "id": "3675f122",
   "metadata": {},
   "outputs": [],
   "source": []
  }
 ],
 "metadata": {
  "kernelspec": {
   "display_name": "Python 3 (ipykernel)",
   "language": "python",
   "name": "python3"
  },
  "language_info": {
   "codemirror_mode": {
    "name": "ipython",
    "version": 3
   },
   "file_extension": ".py",
   "mimetype": "text/x-python",
   "name": "python",
   "nbconvert_exporter": "python",
   "pygments_lexer": "ipython3",
   "version": "3.9.16"
  }
 },
 "nbformat": 4,
 "nbformat_minor": 5
}
